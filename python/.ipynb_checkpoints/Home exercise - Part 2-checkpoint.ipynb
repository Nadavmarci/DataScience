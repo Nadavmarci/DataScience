{
 "cells": [
  {
   "cell_type": "markdown",
   "metadata": {},
   "source": [
    "# Python Home Exercises"
   ]
  },
  {
   "cell_type": "markdown",
   "metadata": {},
   "source": [
    "## Functions in Python\n",
    " \n",
    "Create a function that converts any given time period (days, hours and minutes) into seconds. The input must include a string representing the time period and an integer representing the value of the time period. The function must be like this:\n",
    " \n",
    "<code>\n",
    "> convert2sec(23,'min')\n",
    "> 23 minutes = 1380 seconds\n",
    "</code>\n",
    "\n",
    "Please take into account the different ways users can input the parameters (see below the running examples)"
   ]
  },
  {
   "cell_type": "code",
   "execution_count": 1,
   "metadata": {},
   "outputs": [],
   "source": [
    "### your code\n",
    "def convert2sec(num,period):\n",
    "    min2sec=60\n",
    "    hour2sec=60*min2sec\n",
    "    day2sec=24*hour2sec\n",
    "    if period=='min':\n",
    "        print(num*min2sec)\n",
    "    elif period=='Hrs':\n",
    "        print(num*hour2sec)\n",
    "    elif period=='DAYS':\n",
    "        print(num*day2sec)"
   ]
  },
  {
   "cell_type": "code",
   "execution_count": 2,
   "metadata": {},
   "outputs": [
    {
     "name": "stdout",
     "output_type": "stream",
     "text": [
      "1380\n"
     ]
    }
   ],
   "source": [
    "convert2sec(23,'min')"
   ]
  },
  {
   "cell_type": "code",
   "execution_count": 3,
   "metadata": {},
   "outputs": [
    {
     "name": "stdout",
     "output_type": "stream",
     "text": [
      "259200\n"
     ]
    }
   ],
   "source": [
    "convert2sec(3,'DAYS')"
   ]
  },
  {
   "cell_type": "code",
   "execution_count": 4,
   "metadata": {},
   "outputs": [
    {
     "name": "stdout",
     "output_type": "stream",
     "text": [
      "36000\n"
     ]
    }
   ],
   "source": [
    "convert2sec(10,'Hrs')"
   ]
  },
  {
   "cell_type": "markdown",
   "metadata": {},
   "source": [
    "## Object Oriented Programming\n",
    "---\n",
    "<code></code>\n",
    "### Exercise: \n",
    " \n",
    "1. Write a class for cars. Each car has the following attributes:  \n",
    "    + Company \n",
    "    + Model \n",
    "    + BodyStyle \n",
    "    + Doors \n",
    "    + Cylinders \n",
    "    + Hybrid \n",
    " \n",
    "\n",
    "2. Create a method to retrieve and to set each of the attributes, and a constructor for printing the attribute values.\n",
    " \n",
    "3. Create objects for each of the following car models:\n",
    "\n",
    "    - Toyota Corola Sedan with 4 doors, 4 cylinder, hybrid\n",
    "    - Hyundai i30 Hatchback, 5 doors, 4 cylinder\n",
    "    - Fiat Tipo Wagon, 5 doors, 8 cylinder\n",
    "    - Seat Leon Hatchback, 3 doors, 4 cylinder\n",
    " \n",
    "\n",
    "4. Use the 'print' function to print each object attributes.\n",
    "\n",
    "<code></code>\n",
    "---"
   ]
  },
  {
   "cell_type": "code",
   "execution_count": 6,
   "metadata": {},
   "outputs": [
    {
     "name": "stdout",
     "output_type": "stream",
     "text": [
      "Company:  \n",
      "Model:  \n",
      "BodyStyle:  \n",
      "Doors:  \n",
      "Cylinders:  \n",
      "Hybrid:  \n",
      "\n"
     ]
    }
   ],
   "source": [
    "class cars:\n",
    "    def __init__(self,Company=\"\",Model=\"\",BodyStyle=\"\",Doors=\"\",Cylinders=\"\",Hybrid=\"\"):\n",
    "        self.Company=Company\n",
    "        self.Model=Model\n",
    "        self.BodyStyle=BodyStyle\n",
    "        self.Doors=Doors\n",
    "        self.Cylinders=Cylinders\n",
    "        self.Hybrid=Hybrid\n",
    "    def __str__(self):\n",
    "        return '''Company: %s \\nModel: %s \\nBodyStyle: %s \\nDoors: %s \\nCylinders: %s \\nHybrid: %s \\n''' % (self.Company,self.Model,self.BodyStyle,self.Doors,self.Cylinders,self.Hybrid)\n",
    "carObj_1 = cars()\n",
    "print(carObj_1)"
   ]
  },
  {
   "cell_type": "code",
   "execution_count": 7,
   "metadata": {},
   "outputs": [],
   "source": [
    "class cars:\n",
    "    def __init__(self,Company=\"\",Model=\"\",BodyStyle=\"\",Doors=\"\",Cylinders=\"\",Hybrid=\"\"):\n",
    "        self.Company=Company\n",
    "        self.Model=Model\n",
    "        self.BodyStyle=BodyStyle\n",
    "        self.Doors=Doors\n",
    "        self.Cylinders=Cylinders\n",
    "        self.Hybrid=Hybrid\n",
    "        \n",
    "    def setCompany(self,Company):\n",
    "        self.Company = Company\n",
    "    def getCompany(self):\n",
    "        return self.Company\n",
    "    def setModel(self,Model):\n",
    "        self.Model = Model\n",
    "    def getModel(self):\n",
    "        return self.Model\n",
    "    def setBodyStyle(self,BodyStyle):\n",
    "        self.BodyStyle = BodyStyle\n",
    "    def getBodyStyle(self):\n",
    "        return self.BodyStyle\n",
    "    def setDoors(self, Doors):\n",
    "        self.Doors = Doors\n",
    "    def getDoors(self):\n",
    "        return self.Doors\n",
    "    def setCylinders(self,Cylinders):\n",
    "        self.Model = Cylinders\n",
    "    def getCylinders(self):\n",
    "        return self.Cylinders\n",
    "    def setHybrid(self,Hybrid):\n",
    "        self.Hybrid = Hybrid\n",
    "    def getHybrid(self):\n",
    "        return self.Hybrid\n",
    "    def __str__(self):\n",
    "        return '''Company: %s \\nModel: %s \\nBodyStyle: %s \\nDoors: %s \\nCylinders: %s \\nHybrid: %s \\n''' % (self.Company,self.Model,self.BodyStyle,self.Doors,self.Cylinders,self.Hybrid)"
   ]
  },
  {
   "cell_type": "code",
   "execution_count": 8,
   "metadata": {},
   "outputs": [],
   "source": [
    "carObj_1 = cars(\"Toyota\",\"Corola\",\"Hatchback\",\"5\",\"4\",\"hybrid\")\n",
    "carObj_2 = cars(\"Hyundai\",\"i30\",\"Sedan\",\"4\",\"4\",\"Not hybrid\")\n",
    "carObj_3 = cars(\"Fiat\",\"Tipo\",\"Wagon\",\"5\",\"8\",\"Not hybrid\")\n",
    "carObj_4 = cars(\"Seat\",\"Leon\",\"Hatchback\",\"3\",\"4\",\"Not hybrid\")"
   ]
  },
  {
   "cell_type": "code",
   "execution_count": 34,
   "metadata": {},
   "outputs": [
    {
     "name": "stdout",
     "output_type": "stream",
     "text": [
      "Company: Toyota \n",
      "Model: Corola \n",
      "BodyStyle: Hatchback \n",
      "Doors: 5 \n",
      "Cylinders: 4 \n",
      "Hybrid: hybrid \n",
      "\n",
      "Company: Hyundai \n",
      "Model: i30 \n",
      "BodyStyle: Sedan \n",
      "Doors: 4 \n",
      "Cylinders: 4 \n",
      "Hybrid: Not hybrid \n",
      "\n",
      "Company: Fiat \n",
      "Model: Tipo \n",
      "BodyStyle: Wagon \n",
      "Doors: 5 \n",
      "Cylinders: 8 \n",
      "Hybrid: Not hybrid \n",
      "\n",
      "Company: Seat \n",
      "Model: Leon \n",
      "BodyStyle: Hatchback \n",
      "Doors: 3 \n",
      "Cylinders: 4 \n",
      "Hybrid: Not hybrid \n",
      "\n"
     ]
    }
   ],
   "source": [
    "print(carObj_1)\n",
    "print(carObj_2)\n",
    "print(carObj_3)\n",
    "print(carObj_4)"
   ]
  }
 ],
 "metadata": {
  "kernelspec": {
   "display_name": "Python 3",
   "language": "python",
   "name": "python3"
  },
  "language_info": {
   "codemirror_mode": {
    "name": "ipython",
    "version": 3
   },
   "file_extension": ".py",
   "mimetype": "text/x-python",
   "name": "python",
   "nbconvert_exporter": "python",
   "pygments_lexer": "ipython3",
   "version": "3.8.3"
  }
 },
 "nbformat": 4,
 "nbformat_minor": 4
}
